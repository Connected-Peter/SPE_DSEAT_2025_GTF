{
 "cells": [
  {
   "cell_type": "markdown",
   "id": "4d64cda5-8d1b-4e4c-acb6-6ddf04a79718",
   "metadata": {},
   "source": [
    "#  SPE DSEATS Africa Datathon 2025 - Well Classification"
   ]
  },
  {
   "cell_type": "markdown",
   "id": "9f126a8f-314d-440a-a533-fbf361bbee4c",
   "metadata": {},
   "source": [
    "This notebook classifies 20 oil wells and estimates total oil production per reservoir using provided datasets."
   ]
  },
  {
   "cell_type": "markdown",
   "id": "e493896b-8c39-4da0-8ff6-d23d32aa3e76",
   "metadata": {},
   "source": [
    "## Objective\n",
    "- Classify 20 wells by:\n",
    "  - Reservoir Name\n",
    "  - Reservoir Type (Saturated/Undersaturated)\n",
    "  - Well Type (NF/GL)\n",
    "  - Production Type (Steady/Unsteady)\n",
    "  - GOR Trend (aSolGOR/bSolGOR/Combo)\n",
    "  - Watercut Trend (Flat/Incr/Decr/Combo)\n",
    "  - Oil PI Trend (Flat/Incr/Decr/Combo)\n",
    "- Estimate total oil production (reservoir barrels) for five reservoirs (ACHI, KEMA, MAKO, DEPU, JANI)"
   ]
  },
  {
   "cell_type": "markdown",
   "id": "c25a52b1-9983-4f4e-b1df-218ab21e0c5a",
   "metadata": {},
   "source": [
    "## Workflow\n",
    "\n",
    "-  Project Introduction & Objective\n",
    "-  Import Libraries & Load Data\n",
    "-  Data Cleaning & Preprocessing\n",
    "-  Exploratory Data Analysis (EDA)\n",
    "-  Feature Engineering (Watercut, GOR, PI)\n",
    "-  Classify Wells Using Logic Rules\n",
    "-  (Optional) Automate with ML Models\n",
    "-  Export Classification File & Prepare Slides"
   ]
  },
  {
   "cell_type": "code",
   "execution_count": 2,
   "id": "400a0060-ea23-4ab1-a36b-47efa6381e7f",
   "metadata": {},
   "outputs": [],
   "source": [
    "# Import Libraries\n",
    "import pandas as pd\n",
    "import numpy as np\n",
    "import matplotlib.pyplot as plt\n",
    "import seaborn as sns\n",
    "import warnings\n",
    "warnings.filterwarnings('ignore')\n",
    "\n",
    "# Set visual theme\n",
    "sns.set_style(\"darkgrid\")  \n",
    "sns.set_palette(\"Set2\")"
   ]
  },
  {
   "cell_type": "code",
   "execution_count": 20,
   "id": "feedac6a-c6a1-45fb-97fa-04b9896970ef",
   "metadata": {},
   "outputs": [
    {
     "data": {
      "text/html": [
       "<div>\n",
       "<style scoped>\n",
       "    .dataframe tbody tr th:only-of-type {\n",
       "        vertical-align: middle;\n",
       "    }\n",
       "\n",
       "    .dataframe tbody tr th {\n",
       "        vertical-align: top;\n",
       "    }\n",
       "\n",
       "    .dataframe thead th {\n",
       "        text-align: right;\n",
       "    }\n",
       "</style>\n",
       "<table border=\"1\" class=\"dataframe\">\n",
       "  <thead>\n",
       "    <tr style=\"text-align: right;\">\n",
       "      <th></th>\n",
       "      <th>PROD_DATE</th>\n",
       "      <th>WELL_NAME</th>\n",
       "      <th>ON_STREAM_HRS</th>\n",
       "      <th>BOTTOMHOLE_FLOWING_PRESSURE (PSI)</th>\n",
       "      <th>DOWNHOLE_TEMPERATURE (deg F)</th>\n",
       "      <th>ANNULUS_PRESS (PSI)</th>\n",
       "      <th>CHOKE_SIZE (%)</th>\n",
       "      <th>WELL_HEAD_PRESSURE (PSI)</th>\n",
       "      <th>WELL_HEAD_TEMPERATURE (deg F)</th>\n",
       "      <th>CUMULATIVE_OIL_PROD (STB)</th>\n",
       "      <th>CUMULATIVE_FORMATION_GAS_PROD (MSCF)</th>\n",
       "      <th>CUMULATIVE_TOTAL_GAS_PROD (MSCF)</th>\n",
       "      <th>CUMULATIVE_WATER_PROD (BBL)</th>\n",
       "    </tr>\n",
       "  </thead>\n",
       "  <tbody>\n",
       "    <tr>\n",
       "      <th>0</th>\n",
       "      <td>15-Feb-14</td>\n",
       "      <td>Well_#1</td>\n",
       "      <td>0.0</td>\n",
       "      <td>4,050</td>\n",
       "      <td>189.866</td>\n",
       "      <td>0</td>\n",
       "      <td>1.17951</td>\n",
       "      <td>482.46</td>\n",
       "      <td>50.864</td>\n",
       "      <td>0</td>\n",
       "      <td>0</td>\n",
       "      <td>0</td>\n",
       "      <td>0</td>\n",
       "    </tr>\n",
       "    <tr>\n",
       "      <th>1</th>\n",
       "      <td>16-Feb-14</td>\n",
       "      <td>Well_#1</td>\n",
       "      <td>0.0</td>\n",
       "      <td>3,961</td>\n",
       "      <td>189.945</td>\n",
       "      <td>0</td>\n",
       "      <td>2.99440</td>\n",
       "      <td>328.601</td>\n",
       "      <td>47.668</td>\n",
       "      <td>0</td>\n",
       "      <td>0</td>\n",
       "      <td>0</td>\n",
       "      <td>0</td>\n",
       "    </tr>\n",
       "    <tr>\n",
       "      <th>2</th>\n",
       "      <td>17-Feb-14</td>\n",
       "      <td>Well_#1</td>\n",
       "      <td>0.0</td>\n",
       "      <td>3,961</td>\n",
       "      <td>190.004</td>\n",
       "      <td>0</td>\n",
       "      <td>1.90349</td>\n",
       "      <td>387.218</td>\n",
       "      <td>48.962</td>\n",
       "      <td>0</td>\n",
       "      <td>0</td>\n",
       "      <td>0</td>\n",
       "      <td>0</td>\n",
       "    </tr>\n",
       "    <tr>\n",
       "      <th>3</th>\n",
       "      <td>18-Feb-14</td>\n",
       "      <td>Well_#1</td>\n",
       "      <td>0.0</td>\n",
       "      <td>3,964</td>\n",
       "      <td>190.020</td>\n",
       "      <td>0</td>\n",
       "      <td>0.00000</td>\n",
       "      <td>308.98</td>\n",
       "      <td>46.636</td>\n",
       "      <td>0</td>\n",
       "      <td>0</td>\n",
       "      <td>0</td>\n",
       "      <td>0</td>\n",
       "    </tr>\n",
       "    <tr>\n",
       "      <th>4</th>\n",
       "      <td>19-Feb-14</td>\n",
       "      <td>Well_#1</td>\n",
       "      <td>0.0</td>\n",
       "      <td>3,965</td>\n",
       "      <td>190.107</td>\n",
       "      <td>0</td>\n",
       "      <td>30.20760</td>\n",
       "      <td>196.057</td>\n",
       "      <td>47.297</td>\n",
       "      <td>0</td>\n",
       "      <td>0</td>\n",
       "      <td>0</td>\n",
       "      <td>0</td>\n",
       "    </tr>\n",
       "  </tbody>\n",
       "</table>\n",
       "</div>"
      ],
      "text/plain": [
       "   PROD_DATE WELL_NAME  ON_STREAM_HRS BOTTOMHOLE_FLOWING_PRESSURE (PSI)  \\\n",
       "0  15-Feb-14   Well_#1            0.0                             4,050   \n",
       "1  16-Feb-14   Well_#1            0.0                             3,961   \n",
       "2  17-Feb-14   Well_#1            0.0                             3,961   \n",
       "3  18-Feb-14   Well_#1            0.0                             3,964   \n",
       "4  19-Feb-14   Well_#1            0.0                             3,965   \n",
       "\n",
       "   DOWNHOLE_TEMPERATURE (deg F) ANNULUS_PRESS (PSI)  CHOKE_SIZE (%)  \\\n",
       "0                       189.866                   0         1.17951   \n",
       "1                       189.945                   0         2.99440   \n",
       "2                       190.004                   0         1.90349   \n",
       "3                       190.020                   0         0.00000   \n",
       "4                       190.107                   0        30.20760   \n",
       "\n",
       "  WELL_HEAD_PRESSURE (PSI)  WELL_HEAD_TEMPERATURE (deg F)  \\\n",
       "0                   482.46                         50.864   \n",
       "1                  328.601                         47.668   \n",
       "2                  387.218                         48.962   \n",
       "3                   308.98                         46.636   \n",
       "4                  196.057                         47.297   \n",
       "\n",
       "  CUMULATIVE_OIL_PROD (STB) CUMULATIVE_FORMATION_GAS_PROD (MSCF)  \\\n",
       "0                         0                                    0   \n",
       "1                         0                                    0   \n",
       "2                         0                                    0   \n",
       "3                         0                                    0   \n",
       "4                         0                                    0   \n",
       "\n",
       "  CUMULATIVE_TOTAL_GAS_PROD (MSCF) CUMULATIVE_WATER_PROD (BBL)  \n",
       "0                                0                           0  \n",
       "1                                0                           0  \n",
       "2                                0                           0  \n",
       "3                                0                           0  \n",
       "4                                0                           0  "
      ]
     },
     "execution_count": 20,
     "metadata": {},
     "output_type": "execute_result"
    }
   ],
   "source": [
    "# Load datasets\n",
    "well_df = pd.read_csv(\"C:/Users/osuol/Desktop/SPE DSEAT/spe_africa_dseats_datathon_2025_wells_dataset.csv\")\n",
    "reservoir_df = pd.read_csv(\"C:/Users/osuol/Desktop/SPE DSEAT/reservoir_info.csv\")\n",
    "\n",
    "# Display shape and columns\n",
    "well_df.head()"
   ]
  },
  {
   "cell_type": "code",
   "execution_count": 9,
   "id": "34199fef-ab90-42f5-8ba2-9ac5f2540995",
   "metadata": {},
   "outputs": [
    {
     "data": {
      "text/plain": [
       "(7955, 13)"
      ]
     },
     "execution_count": 9,
     "metadata": {},
     "output_type": "execute_result"
    }
   ],
   "source": [
    "well_df.shape"
   ]
  },
  {
   "cell_type": "code",
   "execution_count": 13,
   "id": "32e6502b-36a0-4bca-949e-578db483601b",
   "metadata": {},
   "outputs": [
    {
     "name": "stdout",
     "output_type": "stream",
     "text": [
      "<class 'pandas.core.frame.DataFrame'>\n",
      "RangeIndex: 7955 entries, 0 to 7954\n",
      "Data columns (total 13 columns):\n",
      " #   Column                                Non-Null Count  Dtype  \n",
      "---  ------                                --------------  -----  \n",
      " 0   PROD_DATE                             7955 non-null   object \n",
      " 1   WELL_NAME                             7955 non-null   object \n",
      " 2   ON_STREAM_HRS                         7955 non-null   float64\n",
      " 3   BOTTOMHOLE_FLOWING_PRESSURE (PSI)     7955 non-null   object \n",
      " 4   DOWNHOLE_TEMPERATURE (deg F)          7955 non-null   float64\n",
      " 5   ANNULUS_PRESS (PSI)                   7955 non-null   object \n",
      " 6   CHOKE_SIZE (%)                        7955 non-null   float64\n",
      " 7   WELL_HEAD_PRESSURE (PSI)              7955 non-null   object \n",
      " 8   WELL_HEAD_TEMPERATURE (deg F)         7955 non-null   float64\n",
      " 9   CUMULATIVE_OIL_PROD (STB)             7955 non-null   object \n",
      " 10  CUMULATIVE_FORMATION_GAS_PROD (MSCF)  7955 non-null   object \n",
      " 11  CUMULATIVE_TOTAL_GAS_PROD (MSCF)      7955 non-null   object \n",
      " 12  CUMULATIVE_WATER_PROD (BBL)           7955 non-null   object \n",
      "dtypes: float64(4), object(9)\n",
      "memory usage: 808.1+ KB\n"
     ]
    }
   ],
   "source": [
    "well_df.info()"
   ]
  },
  {
   "cell_type": "code",
   "execution_count": 11,
   "id": "9520c040-e631-4126-9ddf-1df8aaf0a967",
   "metadata": {},
   "outputs": [
    {
     "data": {
      "text/html": [
       "<div>\n",
       "<style scoped>\n",
       "    .dataframe tbody tr th:only-of-type {\n",
       "        vertical-align: middle;\n",
       "    }\n",
       "\n",
       "    .dataframe tbody tr th {\n",
       "        vertical-align: top;\n",
       "    }\n",
       "\n",
       "    .dataframe thead th {\n",
       "        text-align: right;\n",
       "    }\n",
       "</style>\n",
       "<table border=\"1\" class=\"dataframe\">\n",
       "  <thead>\n",
       "    <tr style=\"text-align: right;\">\n",
       "      <th></th>\n",
       "      <th>Reservoir Name</th>\n",
       "      <th>Initial Reservoir Pressure (PSI)</th>\n",
       "      <th>Bubble Point Pressure (PSI)</th>\n",
       "      <th>Current Average Reservoir Pressure (PSI)</th>\n",
       "      <th>Solution Gas-Oil-Ratio (SCF/BBL)</th>\n",
       "      <th>Formation Volume Factor (RB/STB)</th>\n",
       "    </tr>\n",
       "  </thead>\n",
       "  <tbody>\n",
       "    <tr>\n",
       "      <th>0</th>\n",
       "      <td>ACHI</td>\n",
       "      <td>3,500</td>\n",
       "      <td>3,300</td>\n",
       "      <td>2,700</td>\n",
       "      <td>800</td>\n",
       "      <td>1.20</td>\n",
       "    </tr>\n",
       "    <tr>\n",
       "      <th>1</th>\n",
       "      <td>KEMA</td>\n",
       "      <td>4,200</td>\n",
       "      <td>4,000</td>\n",
       "      <td>3,900</td>\n",
       "      <td>600</td>\n",
       "      <td>1.45</td>\n",
       "    </tr>\n",
       "    <tr>\n",
       "      <th>2</th>\n",
       "      <td>MAKO</td>\n",
       "      <td>3,500</td>\n",
       "      <td>3,500</td>\n",
       "      <td>3,000</td>\n",
       "      <td>500</td>\n",
       "      <td>1.15</td>\n",
       "    </tr>\n",
       "    <tr>\n",
       "      <th>3</th>\n",
       "      <td>DEPU</td>\n",
       "      <td>2,800</td>\n",
       "      <td>2,800</td>\n",
       "      <td>2,400</td>\n",
       "      <td>1,200</td>\n",
       "      <td>1.37</td>\n",
       "    </tr>\n",
       "    <tr>\n",
       "      <th>4</th>\n",
       "      <td>JANI</td>\n",
       "      <td>4,500</td>\n",
       "      <td>4,300</td>\n",
       "      <td>4,200</td>\n",
       "      <td>1,000</td>\n",
       "      <td>1.30</td>\n",
       "    </tr>\n",
       "  </tbody>\n",
       "</table>\n",
       "</div>"
      ],
      "text/plain": [
       "  Reservoir Name Initial Reservoir Pressure (PSI) Bubble Point Pressure (PSI)  \\\n",
       "0           ACHI                            3,500                       3,300   \n",
       "1           KEMA                            4,200                       4,000   \n",
       "2           MAKO                            3,500                       3,500   \n",
       "3           DEPU                            2,800                       2,800   \n",
       "4           JANI                            4,500                       4,300   \n",
       "\n",
       "  Current Average Reservoir Pressure (PSI) Solution Gas-Oil-Ratio (SCF/BBL)  \\\n",
       "0                                    2,700                              800   \n",
       "1                                    3,900                              600   \n",
       "2                                    3,000                              500   \n",
       "3                                    2,400                            1,200   \n",
       "4                                    4,200                            1,000   \n",
       "\n",
       "   Formation Volume Factor (RB/STB)  \n",
       "0                              1.20  \n",
       "1                              1.45  \n",
       "2                              1.15  \n",
       "3                              1.37  \n",
       "4                              1.30  "
      ]
     },
     "execution_count": 11,
     "metadata": {},
     "output_type": "execute_result"
    }
   ],
   "source": [
    "reservoir_df"
   ]
  },
  {
   "cell_type": "markdown",
   "id": "38ac84c6-51d1-4297-a80b-4a2b6b17f573",
   "metadata": {},
   "source": [
    "I noticed that some columns with numbers like pressures and production volumes are showing as `object` instead of numeric. This is likely because of comma separators.\n",
    "\n",
    "I'll fix that by removing the commas and convert them to float so I can work with them properly later on."
   ]
  },
  {
   "cell_type": "code",
   "execution_count": 26,
   "id": "d474aed6-a83c-4ba7-96e8-91efb1a27dbe",
   "metadata": {},
   "outputs": [],
   "source": [
    "# Convert PROD_DATE to datetime\n",
    "well_df['PROD_DATE'] = pd.to_datetime(well_df['PROD_DATE'], format='%d-%b-%y')"
   ]
  },
  {
   "cell_type": "code",
   "execution_count": 27,
   "id": "a51aef72-2f63-4f8d-b40a-abafb4702783",
   "metadata": {},
   "outputs": [
    {
     "name": "stdout",
     "output_type": "stream",
     "text": [
      "<class 'pandas.core.frame.DataFrame'>\n",
      "RangeIndex: 7955 entries, 0 to 7954\n",
      "Data columns (total 13 columns):\n",
      " #   Column                                Non-Null Count  Dtype         \n",
      "---  ------                                --------------  -----         \n",
      " 0   PROD_DATE                             7955 non-null   datetime64[ns]\n",
      " 1   WELL_NAME                             7955 non-null   object        \n",
      " 2   ON_STREAM_HRS                         7955 non-null   float64       \n",
      " 3   BOTTOMHOLE_FLOWING_PRESSURE (PSI)     7955 non-null   float64       \n",
      " 4   DOWNHOLE_TEMPERATURE (deg F)          7955 non-null   float64       \n",
      " 5   ANNULUS_PRESS (PSI)                   7955 non-null   float64       \n",
      " 6   CHOKE_SIZE (%)                        7955 non-null   float64       \n",
      " 7   WELL_HEAD_PRESSURE (PSI)              7955 non-null   float64       \n",
      " 8   WELL_HEAD_TEMPERATURE (deg F)         7955 non-null   float64       \n",
      " 9   CUMULATIVE_OIL_PROD (STB)             7955 non-null   float64       \n",
      " 10  CUMULATIVE_FORMATION_GAS_PROD (MSCF)  7955 non-null   float64       \n",
      " 11  CUMULATIVE_TOTAL_GAS_PROD (MSCF)      7955 non-null   object        \n",
      " 12  CUMULATIVE_WATER_PROD (BBL)           7955 non-null   float64       \n",
      "dtypes: datetime64[ns](1), float64(10), object(2)\n",
      "memory usage: 808.1+ KB\n"
     ]
    },
    {
     "data": {
      "text/html": [
       "<div>\n",
       "<style scoped>\n",
       "    .dataframe tbody tr th:only-of-type {\n",
       "        vertical-align: middle;\n",
       "    }\n",
       "\n",
       "    .dataframe tbody tr th {\n",
       "        vertical-align: top;\n",
       "    }\n",
       "\n",
       "    .dataframe thead th {\n",
       "        text-align: right;\n",
       "    }\n",
       "</style>\n",
       "<table border=\"1\" class=\"dataframe\">\n",
       "  <thead>\n",
       "    <tr style=\"text-align: right;\">\n",
       "      <th></th>\n",
       "      <th>PROD_DATE</th>\n",
       "      <th>WELL_NAME</th>\n",
       "      <th>ON_STREAM_HRS</th>\n",
       "      <th>BOTTOMHOLE_FLOWING_PRESSURE (PSI)</th>\n",
       "      <th>DOWNHOLE_TEMPERATURE (deg F)</th>\n",
       "      <th>ANNULUS_PRESS (PSI)</th>\n",
       "      <th>CHOKE_SIZE (%)</th>\n",
       "      <th>WELL_HEAD_PRESSURE (PSI)</th>\n",
       "      <th>WELL_HEAD_TEMPERATURE (deg F)</th>\n",
       "      <th>CUMULATIVE_OIL_PROD (STB)</th>\n",
       "      <th>CUMULATIVE_FORMATION_GAS_PROD (MSCF)</th>\n",
       "      <th>CUMULATIVE_TOTAL_GAS_PROD (MSCF)</th>\n",
       "      <th>CUMULATIVE_WATER_PROD (BBL)</th>\n",
       "    </tr>\n",
       "  </thead>\n",
       "  <tbody>\n",
       "    <tr>\n",
       "      <th>0</th>\n",
       "      <td>2014-02-15</td>\n",
       "      <td>Well_#1</td>\n",
       "      <td>0.0</td>\n",
       "      <td>4050.0</td>\n",
       "      <td>189.866</td>\n",
       "      <td>0.0</td>\n",
       "      <td>1.17951</td>\n",
       "      <td>482.460</td>\n",
       "      <td>50.864</td>\n",
       "      <td>0.0</td>\n",
       "      <td>0.0</td>\n",
       "      <td>0</td>\n",
       "      <td>0.0</td>\n",
       "    </tr>\n",
       "    <tr>\n",
       "      <th>1</th>\n",
       "      <td>2014-02-16</td>\n",
       "      <td>Well_#1</td>\n",
       "      <td>0.0</td>\n",
       "      <td>3961.0</td>\n",
       "      <td>189.945</td>\n",
       "      <td>0.0</td>\n",
       "      <td>2.99440</td>\n",
       "      <td>328.601</td>\n",
       "      <td>47.668</td>\n",
       "      <td>0.0</td>\n",
       "      <td>0.0</td>\n",
       "      <td>0</td>\n",
       "      <td>0.0</td>\n",
       "    </tr>\n",
       "    <tr>\n",
       "      <th>2</th>\n",
       "      <td>2014-02-17</td>\n",
       "      <td>Well_#1</td>\n",
       "      <td>0.0</td>\n",
       "      <td>3961.0</td>\n",
       "      <td>190.004</td>\n",
       "      <td>0.0</td>\n",
       "      <td>1.90349</td>\n",
       "      <td>387.218</td>\n",
       "      <td>48.962</td>\n",
       "      <td>0.0</td>\n",
       "      <td>0.0</td>\n",
       "      <td>0</td>\n",
       "      <td>0.0</td>\n",
       "    </tr>\n",
       "    <tr>\n",
       "      <th>3</th>\n",
       "      <td>2014-02-18</td>\n",
       "      <td>Well_#1</td>\n",
       "      <td>0.0</td>\n",
       "      <td>3964.0</td>\n",
       "      <td>190.020</td>\n",
       "      <td>0.0</td>\n",
       "      <td>0.00000</td>\n",
       "      <td>308.980</td>\n",
       "      <td>46.636</td>\n",
       "      <td>0.0</td>\n",
       "      <td>0.0</td>\n",
       "      <td>0</td>\n",
       "      <td>0.0</td>\n",
       "    </tr>\n",
       "    <tr>\n",
       "      <th>4</th>\n",
       "      <td>2014-02-19</td>\n",
       "      <td>Well_#1</td>\n",
       "      <td>0.0</td>\n",
       "      <td>3965.0</td>\n",
       "      <td>190.107</td>\n",
       "      <td>0.0</td>\n",
       "      <td>30.20760</td>\n",
       "      <td>196.057</td>\n",
       "      <td>47.297</td>\n",
       "      <td>0.0</td>\n",
       "      <td>0.0</td>\n",
       "      <td>0</td>\n",
       "      <td>0.0</td>\n",
       "    </tr>\n",
       "  </tbody>\n",
       "</table>\n",
       "</div>"
      ],
      "text/plain": [
       "   PROD_DATE WELL_NAME  ON_STREAM_HRS  BOTTOMHOLE_FLOWING_PRESSURE (PSI)  \\\n",
       "0 2014-02-15   Well_#1            0.0                             4050.0   \n",
       "1 2014-02-16   Well_#1            0.0                             3961.0   \n",
       "2 2014-02-17   Well_#1            0.0                             3961.0   \n",
       "3 2014-02-18   Well_#1            0.0                             3964.0   \n",
       "4 2014-02-19   Well_#1            0.0                             3965.0   \n",
       "\n",
       "   DOWNHOLE_TEMPERATURE (deg F)  ANNULUS_PRESS (PSI)  CHOKE_SIZE (%)  \\\n",
       "0                       189.866                  0.0         1.17951   \n",
       "1                       189.945                  0.0         2.99440   \n",
       "2                       190.004                  0.0         1.90349   \n",
       "3                       190.020                  0.0         0.00000   \n",
       "4                       190.107                  0.0        30.20760   \n",
       "\n",
       "   WELL_HEAD_PRESSURE (PSI)  WELL_HEAD_TEMPERATURE (deg F)  \\\n",
       "0                   482.460                         50.864   \n",
       "1                   328.601                         47.668   \n",
       "2                   387.218                         48.962   \n",
       "3                   308.980                         46.636   \n",
       "4                   196.057                         47.297   \n",
       "\n",
       "   CUMULATIVE_OIL_PROD (STB)  CUMULATIVE_FORMATION_GAS_PROD (MSCF)  \\\n",
       "0                        0.0                                   0.0   \n",
       "1                        0.0                                   0.0   \n",
       "2                        0.0                                   0.0   \n",
       "3                        0.0                                   0.0   \n",
       "4                        0.0                                   0.0   \n",
       "\n",
       "  CUMULATIVE_TOTAL_GAS_PROD (MSCF)  CUMULATIVE_WATER_PROD (BBL)  \n",
       "0                                0                          0.0  \n",
       "1                                0                          0.0  \n",
       "2                                0                          0.0  \n",
       "3                                0                          0.0  \n",
       "4                                0                          0.0  "
      ]
     },
     "execution_count": 27,
     "metadata": {},
     "output_type": "execute_result"
    }
   ],
   "source": [
    "# Removing commas,and converting to float\n",
    "cols_to_clean = [ 'BOTTOMHOLE_FLOWING_PRESSURE (PSI)',  'ANNULUS_PRESS (PSI)',  'WELL_HEAD_PRESSURE (PSI)', 'CUMULATIVE_OIL_PROD (STB)', 'CUMULATIVE_FORMATION_GAS_PROD (MSCF)', 'CUMULATIVE_WATER_PROD (BBL)']\n",
    "for col in cols_to_clean:\n",
    "    well_df[col] = well_df[col].astype(str).str.replace(\",\", \"\").astype(float)\n",
    "\n",
    "well_df.info()\n",
    "well_df.head()"
   ]
  },
  {
   "cell_type": "code",
   "execution_count": 22,
   "id": "6381c62a-3818-402d-9531-9a6ab277db0a",
   "metadata": {},
   "outputs": [],
   "source": [
    "# Clean reservoir_df columns\n",
    "res_cols_to_clean = [\n",
    "    'Initial Reservoir Pressure (PSI)',\n",
    "    'Bubble Point Pressure (PSI)',\n",
    "    'Current Average Reservoir Pressure (PSI)',\n",
    "    'Solution Gas-Oil-Ratio (SCF/BBL)',\n",
    "    'Formation Volume Factor (RB/STB)'\n",
    "]\n",
    "for col in res_cols_to_clean:\n",
    "    reservoir_df[col] = reservoir_df[col].astype(str).str.replace(\",\", \"\").astype(float)\n"
   ]
  },
  {
   "cell_type": "code",
   "execution_count": 23,
   "id": "ae23d3a8-80cc-4145-b229-93db8dc8d002",
   "metadata": {},
   "outputs": [
    {
     "data": {
      "text/html": [
       "<div>\n",
       "<style scoped>\n",
       "    .dataframe tbody tr th:only-of-type {\n",
       "        vertical-align: middle;\n",
       "    }\n",
       "\n",
       "    .dataframe tbody tr th {\n",
       "        vertical-align: top;\n",
       "    }\n",
       "\n",
       "    .dataframe thead th {\n",
       "        text-align: right;\n",
       "    }\n",
       "</style>\n",
       "<table border=\"1\" class=\"dataframe\">\n",
       "  <thead>\n",
       "    <tr style=\"text-align: right;\">\n",
       "      <th></th>\n",
       "      <th>Reservoir Name</th>\n",
       "      <th>Initial Reservoir Pressure (PSI)</th>\n",
       "      <th>Bubble Point Pressure (PSI)</th>\n",
       "      <th>Current Average Reservoir Pressure (PSI)</th>\n",
       "      <th>Solution Gas-Oil-Ratio (SCF/BBL)</th>\n",
       "      <th>Formation Volume Factor (RB/STB)</th>\n",
       "    </tr>\n",
       "  </thead>\n",
       "  <tbody>\n",
       "    <tr>\n",
       "      <th>0</th>\n",
       "      <td>ACHI</td>\n",
       "      <td>3500.0</td>\n",
       "      <td>3300.0</td>\n",
       "      <td>2700.0</td>\n",
       "      <td>800.0</td>\n",
       "      <td>1.20</td>\n",
       "    </tr>\n",
       "    <tr>\n",
       "      <th>1</th>\n",
       "      <td>KEMA</td>\n",
       "      <td>4200.0</td>\n",
       "      <td>4000.0</td>\n",
       "      <td>3900.0</td>\n",
       "      <td>600.0</td>\n",
       "      <td>1.45</td>\n",
       "    </tr>\n",
       "    <tr>\n",
       "      <th>2</th>\n",
       "      <td>MAKO</td>\n",
       "      <td>3500.0</td>\n",
       "      <td>3500.0</td>\n",
       "      <td>3000.0</td>\n",
       "      <td>500.0</td>\n",
       "      <td>1.15</td>\n",
       "    </tr>\n",
       "    <tr>\n",
       "      <th>3</th>\n",
       "      <td>DEPU</td>\n",
       "      <td>2800.0</td>\n",
       "      <td>2800.0</td>\n",
       "      <td>2400.0</td>\n",
       "      <td>1200.0</td>\n",
       "      <td>1.37</td>\n",
       "    </tr>\n",
       "    <tr>\n",
       "      <th>4</th>\n",
       "      <td>JANI</td>\n",
       "      <td>4500.0</td>\n",
       "      <td>4300.0</td>\n",
       "      <td>4200.0</td>\n",
       "      <td>1000.0</td>\n",
       "      <td>1.30</td>\n",
       "    </tr>\n",
       "  </tbody>\n",
       "</table>\n",
       "</div>"
      ],
      "text/plain": [
       "  Reservoir Name  Initial Reservoir Pressure (PSI)  \\\n",
       "0           ACHI                            3500.0   \n",
       "1           KEMA                            4200.0   \n",
       "2           MAKO                            3500.0   \n",
       "3           DEPU                            2800.0   \n",
       "4           JANI                            4500.0   \n",
       "\n",
       "   Bubble Point Pressure (PSI)  Current Average Reservoir Pressure (PSI)  \\\n",
       "0                       3300.0                                    2700.0   \n",
       "1                       4000.0                                    3900.0   \n",
       "2                       3500.0                                    3000.0   \n",
       "3                       2800.0                                    2400.0   \n",
       "4                       4300.0                                    4200.0   \n",
       "\n",
       "   Solution Gas-Oil-Ratio (SCF/BBL)  Formation Volume Factor (RB/STB)  \n",
       "0                             800.0                              1.20  \n",
       "1                             600.0                              1.45  \n",
       "2                             500.0                              1.15  \n",
       "3                            1200.0                              1.37  \n",
       "4                            1000.0                              1.30  "
      ]
     },
     "execution_count": 23,
     "metadata": {},
     "output_type": "execute_result"
    }
   ],
   "source": [
    "reservoir_df"
   ]
  },
  {
   "cell_type": "markdown",
   "id": "1020406d-c570-46f7-9a55-1eff4e5ae097",
   "metadata": {},
   "source": [
    "Some of the numeric columns were showing as `object` because of commas in the values.  \n",
    "I've cleaned the numbers and also changed the production date to datetime format so they’re now usable for analysis. "
   ]
  },
  {
   "cell_type": "markdown",
   "id": "52fa35ca-04f8-4c0b-aba0-0ebe2ef6e2d6",
   "metadata": {},
   "source": [
    "### PREPROCESSING"
   ]
  },
  {
   "cell_type": "code",
   "execution_count": 31,
   "id": "e8e9fd06-1572-4bbb-980b-f188213550f5",
   "metadata": {},
   "outputs": [],
   "source": [
    "# Filtering out non-production rows (ON_STREAM_HRS > 0)\n",
    "well_df = well_df[well_df['ON_STREAM_HRS'] > 0]"
   ]
  },
  {
   "cell_type": "code",
   "execution_count": 33,
   "id": "7aadb267-0797-4b0b-8312-d04c0b32874f",
   "metadata": {},
   "outputs": [],
   "source": [
    "# Calculating daily production rates\n",
    "well_df['OIL_RATE'] = well_df['CUMULATIVE_OIL_PROD (STB)'].diff() / well_df['ON_STREAM_HRS']\n",
    "well_df['GAS_RATE'] = well_df['CUMULATIVE_FORMATION_GAS_PROD (MSCF)'].diff() / well_df['ON_STREAM_HRS']\n",
    "well_df['WATER_RATE'] = well_df['CUMULATIVE_WATER_PROD (BBL)'].diff() / well_df['ON_STREAM_HRS']"
   ]
  },
  {
   "cell_type": "code",
   "execution_count": 34,
   "id": "283ac7d8-2b38-48bd-8ab6-f5583fae9812",
   "metadata": {},
   "outputs": [],
   "source": [
    "# Dropping rows with NaN values from diff() and handling negative rates (anomalies)\n",
    "well_df = well_df.dropna()\n",
    "well_df = well_df[(well_df['OIL_RATE'] >= 0) & (well_df['GAS_RATE'] >= 0) & (well_df['WATER_RATE'] >= 0)]"
   ]
  },
  {
   "cell_type": "code",
   "execution_count": 41,
   "id": "0d77241e-b9e0-48f7-a4fb-ba941a4d1b0f",
   "metadata": {},
   "outputs": [
    {
     "name": "stdout",
     "output_type": "stream",
     "text": [
      "Missing Values After Preprocessing:\n",
      "PROD_DATE                               0\n",
      "WELL_NAME                               0\n",
      "ON_STREAM_HRS                           0\n",
      "BOTTOMHOLE_FLOWING_PRESSURE (PSI)       0\n",
      "DOWNHOLE_TEMPERATURE (deg F)            0\n",
      "ANNULUS_PRESS (PSI)                     0\n",
      "CHOKE_SIZE (%)                          0\n",
      "WELL_HEAD_PRESSURE (PSI)                0\n",
      "WELL_HEAD_TEMPERATURE (deg F)           0\n",
      "CUMULATIVE_OIL_PROD (STB)               0\n",
      "CUMULATIVE_FORMATION_GAS_PROD (MSCF)    0\n",
      "CUMULATIVE_TOTAL_GAS_PROD (MSCF)        0\n",
      "CUMULATIVE_WATER_PROD (BBL)             0\n",
      "OIL_RATE                                0\n",
      "GAS_RATE                                0\n",
      "WATER_RATE                              0\n",
      "dtype: int64\n"
     ]
    }
   ],
   "source": [
    "# Checking for missing values\n",
    "print(\"Missing Values After Preprocessing:\")\n",
    "print(well_df.isna().sum())"
   ]
  },
  {
   "cell_type": "code",
   "execution_count": 40,
   "id": "8dee5263-6fa4-41db-afe4-2e54ece115ff",
   "metadata": {},
   "outputs": [],
   "source": [
    "# Handling zero or negative pressures (assume invalid if <= 0)\n",
    "well_df = well_df[well_df['BOTTOMHOLE_FLOWING_PRESSURE (PSI)'] > 0]\n",
    "well_df = well_df[well_df['WELL_HEAD_PRESSURE (PSI)'] > 0]"
   ]
  },
  {
   "cell_type": "code",
   "execution_count": 44,
   "id": "3c737912-8128-4d25-b014-f7b568a8148b",
   "metadata": {},
   "outputs": [
    {
     "name": "stdout",
     "output_type": "stream",
     "text": [
      "\n",
      "Summary Statistics of Cleaned Data:\n",
      "                           PROD_DATE  ON_STREAM_HRS  \\\n",
      "count                           7355    7355.000000   \n",
      "mean   2013-09-14 07:50:51.801495552      23.186016   \n",
      "min              2011-02-18 00:00:00       0.250000   \n",
      "25%              2012-08-14 00:00:00      24.000000   \n",
      "50%              2013-07-27 00:00:00      24.000000   \n",
      "75%              2014-10-22 00:00:00      24.000000   \n",
      "max              2016-08-12 00:00:00      25.000000   \n",
      "std                              NaN       3.196613   \n",
      "\n",
      "       BOTTOMHOLE_FLOWING_PRESSURE (PSI)  DOWNHOLE_TEMPERATURE (deg F)  \\\n",
      "count                        7355.000000                   7355.000000   \n",
      "mean                         2597.089191                    169.468232   \n",
      "min                           436.000000                     31.440000   \n",
      "25%                          2178.000000                    150.408500   \n",
      "50%                          2454.000000                    158.494000   \n",
      "75%                          2999.500000                    202.642500   \n",
      "max                          4045.000000                    212.148000   \n",
      "std                           635.560784                     27.612788   \n",
      "\n",
      "       ANNULUS_PRESS (PSI)  CHOKE_SIZE (%)  WELL_HEAD_PRESSURE (PSI)  \\\n",
      "count          7355.000000     7355.000000               7355.000000   \n",
      "mean            506.140418       60.235905                184.644416   \n",
      "min               0.000000        0.600000                  0.735000   \n",
      "25%              15.166000       34.809170                 68.910500   \n",
      "50%             626.972000       54.010770                113.451000   \n",
      "75%             997.137500       99.999915                147.539500   \n",
      "max            1639.040000      100.000000               1464.320000   \n",
      "std             482.580534       32.932970                204.679358   \n",
      "\n",
      "       WELL_HEAD_TEMPERATURE (deg F)  CUMULATIVE_OIL_PROD (STB)  \\\n",
      "count                    7355.000000               7.355000e+03   \n",
      "mean                       90.449124               1.797599e+05   \n",
      "min                        12.135000               0.000000e+00   \n",
      "25%                        82.957000               5.134350e+04   \n",
      "50%                        88.801000               1.184540e+05   \n",
      "75%                        97.281000               2.504915e+05   \n",
      "max                       182.157000               1.129301e+06   \n",
      "std                        18.497928               1.759350e+05   \n",
      "\n",
      "       CUMULATIVE_FORMATION_GAS_PROD (MSCF)  CUMULATIVE_WATER_PROD (BBL)  \\\n",
      "count                          7.355000e+03                 7.355000e+03   \n",
      "mean                           1.518462e+05                 1.493646e+05   \n",
      "min                            0.000000e+00                 0.000000e+00   \n",
      "25%                            4.354500e+04                 9.215000e+03   \n",
      "50%                            1.083680e+05                 4.846800e+04   \n",
      "75%                            2.051240e+05                 2.119955e+05   \n",
      "max                            1.458660e+06                 1.499262e+06   \n",
      "std                            1.749596e+05                 2.287713e+05   \n",
      "\n",
      "          OIL_RATE     GAS_RATE   WATER_RATE  \n",
      "count  7355.000000  7355.000000  7355.000000  \n",
      "mean     33.098129    31.493217    31.131771  \n",
      "min       0.000000     0.000000     0.000000  \n",
      "25%      16.416667    12.943759     4.083333  \n",
      "50%      26.166667    21.416667    23.041667  \n",
      "75%      37.375000    29.958333    41.020833  \n",
      "max    1637.254902  1466.666667  2411.764706  \n",
      "std      39.407175    48.373465    45.749582  \n"
     ]
    }
   ],
   "source": [
    "print(\"\\nSummary Statistics of Cleaned Data:\")\n",
    "print(well_df.describe())"
   ]
  },
  {
   "cell_type": "code",
   "execution_count": 43,
   "id": "4d179302-9900-4e2f-9103-e273e141a58a",
   "metadata": {},
   "outputs": [
    {
     "data": {
      "image/png": "[encoded data removed]",
      "text/plain": [
       "<Figure size 1000x500 with 1 Axes>"
      ]
     },
     "metadata": {},
     "output_type": "display_data"
    }
   ],
   "source": [
    "# Visualizing daily production rates for a sample well (e.g., Well_#1)\n",
    "sample_well = 'Well_#1'\n",
    "well_data = well_df[well_df['WELL_NAME'] == sample_well]\n",
    "plt.figure(figsize=(10, 5))\n",
    "plt.plot(well_data['PROD_DATE'], well_data['OIL_RATE'], label='Oil Rate (STB/hr)', color='blue')\n",
    "plt.plot(well_data['PROD_DATE'], well_data['GAS_RATE'], label='Gas Rate (MSCF/hr)', color='green')\n",
    "plt.plot(well_data['PROD_DATE'], well_data['WATER_RATE'], label='Water Rate (BBL/hr)', color='red')\n",
    "plt.xlabel(\"Date\", fontsize=13, labelpad=20)\n",
    "plt.ylabel(\"Production Rate\", fontsize=13, labelpad=20)\n",
    "plt.title(f\"Daily Production Rates for {sample_well}\", fontsize=20, pad=20, loc=\"left\")\n",
    "plt.grid(True)\n",
    "plt.legend()\n",
    "plt.tight_layout()\n",
    "plt.savefig('daily_production_well_1.png', dpi=300)\n",
    "plt.show()"
   ]
  },
  {
   "cell_type": "markdown",
   "id": "de0235de-5d65-42c1-a114-e29b625e798e",
   "metadata": {},
   "source": [
    "The plot shows oil rate declining steadily, water rate increasing gradually (suggesting an Increasing watercut trend for classification), and gas rate staying stable."
   ]
  },
  {
   "cell_type": "code",
   "execution_count": 28,
   "id": "66940968-e399-4284-81de-3db354c9d59b",
   "metadata": {},
   "outputs": [
    {
     "name": "stderr",
     "output_type": "stream",
     "text": [
      "warning: in the working copy of '.ipynb_checkpoints/SPE DSEATS DATATHON ML-checkpoint.ipynb', LF will be replaced by CRLF the next time Git touches it\n",
      "warning: in the working copy of 'SPE DSEATS DATATHON ML.ipynb', LF will be replaced by CRLF the next time Git touches it\n"
     ]
    }
   ],
   "source": [
    "!git add ."
   ]
  },
  {
   "cell_type": "code",
   "execution_count": 29,
   "id": "7604b26e-c632-4db8-bd23-1509f4f39bea",
   "metadata": {},
   "outputs": [
    {
     "name": "stdout",
     "output_type": "stream",
     "text": [
      "[main 81bb61c] Cleaned\n",
      " 2 files changed, 545 insertions(+), 17355 deletions(-)\n"
     ]
    }
   ],
   "source": [
    "!git commit -m \"Cleaned\""
   ]
  },
  {
   "cell_type": "code",
   "execution_count": 30,
   "id": "04ae6c6a-d747-49c4-b06b-a44c55e178b2",
   "metadata": {},
   "outputs": [
    {
     "name": "stderr",
     "output_type": "stream",
     "text": [
      "To https://github.com/Connected-Peter/SPE_DSEAT_2025_GTF.git\n",
      "   bfc17dd..81bb61c  main -> main\n"
     ]
    }
   ],
   "source": [
    "!git push origin main"
   ]
  },
  {
   "cell_type": "code",
   "execution_count": null,
   "id": "89af2a35-1459-46fa-9a75-35df7a344a2c",
   "metadata": {},
   "outputs": [],
   "source": []
  }
 ],
 "metadata": {
  "kernelspec": {
   "display_name": "Python 3 (ipykernel)",
   "language": "python",
   "name": "python3"
  },
  "language_info": {
   "codemirror_mode": {
    "name": "ipython",
    "version": 3
   },
   "file_extension": ".py",
   "mimetype": "text/x-python",
   "name": "python",
   "nbconvert_exporter": "python",
   "pygments_lexer": "ipython3",
   "version": "3.12.7"
  }
 },
 "nbformat": 4,
 "nbformat_minor": 5
}
