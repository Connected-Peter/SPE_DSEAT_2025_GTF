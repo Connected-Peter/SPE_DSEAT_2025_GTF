{
 "cells": [
  {
   "cell_type": "markdown",
   "id": "0815569b-2b5e-4666-ae39-4aad478ad484",
   "metadata": {},
   "source": [
    "# SPE DSEAT Datathon "
   ]
  },
  {
   "cell_type": "markdown",
   "id": "31ae129c-bff9-4084-93b7-b766d554fa0f",
   "metadata": {},
   "source": [
    "### Importing libariries"
   ]
  },
  {
   "cell_type": "code",
   "execution_count": 1,
   "id": "bbaebcc5-83f4-4710-b291-a2cf9c4ed23a",
   "metadata": {},
   "outputs": [
    {
     "name": "stderr",
     "output_type": "stream",
     "text": [
      "Matplotlib is building the font cache; this may take a moment.\n"
     ]
    }
   ],
   "source": [
    "import pandas as pd\n",
    "import numpy as np\n",
    "import matplotlib.pyplot as plt\n",
    "import seaborn as sns"
   ]
  },
  {
   "cell_type": "markdown",
   "id": "041861ee-1ba8-4f17-a697-a781c84cce87",
   "metadata": {},
   "source": [
    "### Loading Datasets"
   ]
  },
  {
   "cell_type": "code",
   "execution_count": 4,
   "id": "7c385645-b5cd-4a03-9c4b-2ddd2622d69a",
   "metadata": {},
   "outputs": [],
   "source": [
    "well_df = pd.read_csv(\"C:/Users/osuol/Desktop/SPE DSEAT/spe_africa_dseats_datathon_2025_wells_dataset.csv\")\n",
    "reservoir_df = pd.read_csv(\"C:/Users/osuol/Desktop/SPE DSEAT/reservoir_info.csv\")"
   ]
  },
  {
   "cell_type": "markdown",
   "id": "13d2a539-4504-4462-b4e9-f50bcf5b9c64",
   "metadata": {},
   "source": [
    "### Previewing the Dataset"
   ]
  },
  {
   "cell_type": "code",
   "execution_count": 5,
   "id": "ec7abe2b-cd97-4f8d-8937-90193c2cd652",
   "metadata": {},
   "outputs": [
    {
     "name": "stdout",
     "output_type": "stream",
     "text": [
      "Shape of the dataset:  (7955, 13)\n",
      "<class 'pandas.core.frame.DataFrame'>\n",
      "RangeIndex: 7955 entries, 0 to 7954\n",
      "Data columns (total 13 columns):\n",
      " #   Column                                Non-Null Count  Dtype  \n",
      "---  ------                                --------------  -----  \n",
      " 0   PROD_DATE                             7955 non-null   object \n",
      " 1   WELL_NAME                             7955 non-null   object \n",
      " 2   ON_STREAM_HRS                         7955 non-null   float64\n",
      " 3   BOTTOMHOLE_FLOWING_PRESSURE (PSI)     7955 non-null   object \n",
      " 4   DOWNHOLE_TEMPERATURE (deg F)          7955 non-null   float64\n",
      " 5   ANNULUS_PRESS (PSI)                   7955 non-null   object \n",
      " 6   CHOKE_SIZE (%)                        7955 non-null   float64\n",
      " 7   WELL_HEAD_PRESSURE (PSI)              7955 non-null   object \n",
      " 8   WELL_HEAD_TEMPERATURE (deg F)         7955 non-null   float64\n",
      " 9   CUMULATIVE_OIL_PROD (STB)             7955 non-null   object \n",
      " 10  CUMULATIVE_FORMATION_GAS_PROD (MSCF)  7955 non-null   object \n",
      " 11  CUMULATIVE_TOTAL_GAS_PROD (MSCF)      7955 non-null   object \n",
      " 12  CUMULATIVE_WATER_PROD (BBL)           7955 non-null   object \n",
      "dtypes: float64(4), object(9)\n",
      "memory usage: 808.1+ KB\n"
     ]
    }
   ],
   "source": [
    "print(\"Shape of the dataset: \", well_df.shape)\n",
    "well_df.info()"
   ]
  },
  {
   "cell_type": "markdown",
   "id": "07ba279a-47b9-4aa3-a0d3-514be4aea4f4",
   "metadata": {},
   "source": [
    "#### It is established from the info that there is no missing values in our well dataset, since total non-null count is the same as the total entries"
   ]
  },
  {
   "cell_type": "code",
   "execution_count": 6,
   "id": "1ad2a52c-e112-4855-bc43-ea0574bee92e",
   "metadata": {},
   "outputs": [
    {
     "data": {
      "text/html": [
       "<div>\n",
       "<style scoped>\n",
       "    .dataframe tbody tr th:only-of-type {\n",
       "        vertical-align: middle;\n",
       "    }\n",
       "\n",
       "    .dataframe tbody tr th {\n",
       "        vertical-align: top;\n",
       "    }\n",
       "\n",
       "    .dataframe thead th {\n",
       "        text-align: right;\n",
       "    }\n",
       "</style>\n",
       "<table border=\"1\" class=\"dataframe\">\n",
       "  <thead>\n",
       "    <tr style=\"text-align: right;\">\n",
       "      <th></th>\n",
       "      <th>PROD_DATE</th>\n",
       "      <th>WELL_NAME</th>\n",
       "      <th>ON_STREAM_HRS</th>\n",
       "      <th>BOTTOMHOLE_FLOWING_PRESSURE (PSI)</th>\n",
       "      <th>DOWNHOLE_TEMPERATURE (deg F)</th>\n",
       "      <th>ANNULUS_PRESS (PSI)</th>\n",
       "      <th>CHOKE_SIZE (%)</th>\n",
       "      <th>WELL_HEAD_PRESSURE (PSI)</th>\n",
       "      <th>WELL_HEAD_TEMPERATURE (deg F)</th>\n",
       "      <th>CUMULATIVE_OIL_PROD (STB)</th>\n",
       "      <th>CUMULATIVE_FORMATION_GAS_PROD (MSCF)</th>\n",
       "      <th>CUMULATIVE_TOTAL_GAS_PROD (MSCF)</th>\n",
       "      <th>CUMULATIVE_WATER_PROD (BBL)</th>\n",
       "    </tr>\n",
       "  </thead>\n",
       "  <tbody>\n",
       "    <tr>\n",
       "      <th>0</th>\n",
       "      <td>15-Feb-14</td>\n",
       "      <td>Well_#1</td>\n",
       "      <td>0.0</td>\n",
       "      <td>4,050</td>\n",
       "      <td>189.866</td>\n",
       "      <td>0</td>\n",
       "      <td>1.17951</td>\n",
       "      <td>482.46</td>\n",
       "      <td>50.864</td>\n",
       "      <td>0</td>\n",
       "      <td>0</td>\n",
       "      <td>0</td>\n",
       "      <td>0</td>\n",
       "    </tr>\n",
       "    <tr>\n",
       "      <th>1</th>\n",
       "      <td>16-Feb-14</td>\n",
       "      <td>Well_#1</td>\n",
       "      <td>0.0</td>\n",
       "      <td>3,961</td>\n",
       "      <td>189.945</td>\n",
       "      <td>0</td>\n",
       "      <td>2.99440</td>\n",
       "      <td>328.601</td>\n",
       "      <td>47.668</td>\n",
       "      <td>0</td>\n",
       "      <td>0</td>\n",
       "      <td>0</td>\n",
       "      <td>0</td>\n",
       "    </tr>\n",
       "    <tr>\n",
       "      <th>2</th>\n",
       "      <td>17-Feb-14</td>\n",
       "      <td>Well_#1</td>\n",
       "      <td>0.0</td>\n",
       "      <td>3,961</td>\n",
       "      <td>190.004</td>\n",
       "      <td>0</td>\n",
       "      <td>1.90349</td>\n",
       "      <td>387.218</td>\n",
       "      <td>48.962</td>\n",
       "      <td>0</td>\n",
       "      <td>0</td>\n",
       "      <td>0</td>\n",
       "      <td>0</td>\n",
       "    </tr>\n",
       "    <tr>\n",
       "      <th>3</th>\n",
       "      <td>18-Feb-14</td>\n",
       "      <td>Well_#1</td>\n",
       "      <td>0.0</td>\n",
       "      <td>3,964</td>\n",
       "      <td>190.020</td>\n",
       "      <td>0</td>\n",
       "      <td>0.00000</td>\n",
       "      <td>308.98</td>\n",
       "      <td>46.636</td>\n",
       "      <td>0</td>\n",
       "      <td>0</td>\n",
       "      <td>0</td>\n",
       "      <td>0</td>\n",
       "    </tr>\n",
       "    <tr>\n",
       "      <th>4</th>\n",
       "      <td>19-Feb-14</td>\n",
       "      <td>Well_#1</td>\n",
       "      <td>0.0</td>\n",
       "      <td>3,965</td>\n",
       "      <td>190.107</td>\n",
       "      <td>0</td>\n",
       "      <td>30.20760</td>\n",
       "      <td>196.057</td>\n",
       "      <td>47.297</td>\n",
       "      <td>0</td>\n",
       "      <td>0</td>\n",
       "      <td>0</td>\n",
       "      <td>0</td>\n",
       "    </tr>\n",
       "  </tbody>\n",
       "</table>\n",
       "</div>"
      ],
      "text/plain": [
       "   PROD_DATE WELL_NAME  ON_STREAM_HRS BOTTOMHOLE_FLOWING_PRESSURE (PSI)  \\\n",
       "0  15-Feb-14   Well_#1            0.0                             4,050   \n",
       "1  16-Feb-14   Well_#1            0.0                             3,961   \n",
       "2  17-Feb-14   Well_#1            0.0                             3,961   \n",
       "3  18-Feb-14   Well_#1            0.0                             3,964   \n",
       "4  19-Feb-14   Well_#1            0.0                             3,965   \n",
       "\n",
       "   DOWNHOLE_TEMPERATURE (deg F) ANNULUS_PRESS (PSI)  CHOKE_SIZE (%)  \\\n",
       "0                       189.866                   0         1.17951   \n",
       "1                       189.945                   0         2.99440   \n",
       "2                       190.004                   0         1.90349   \n",
       "3                       190.020                   0         0.00000   \n",
       "4                       190.107                   0        30.20760   \n",
       "\n",
       "  WELL_HEAD_PRESSURE (PSI)  WELL_HEAD_TEMPERATURE (deg F)  \\\n",
       "0                   482.46                         50.864   \n",
       "1                  328.601                         47.668   \n",
       "2                  387.218                         48.962   \n",
       "3                   308.98                         46.636   \n",
       "4                  196.057                         47.297   \n",
       "\n",
       "  CUMULATIVE_OIL_PROD (STB) CUMULATIVE_FORMATION_GAS_PROD (MSCF)  \\\n",
       "0                         0                                    0   \n",
       "1                         0                                    0   \n",
       "2                         0                                    0   \n",
       "3                         0                                    0   \n",
       "4                         0                                    0   \n",
       "\n",
       "  CUMULATIVE_TOTAL_GAS_PROD (MSCF) CUMULATIVE_WATER_PROD (BBL)  \n",
       "0                                0                           0  \n",
       "1                                0                           0  \n",
       "2                                0                           0  \n",
       "3                                0                           0  \n",
       "4                                0                           0  "
      ]
     },
     "execution_count": 6,
     "metadata": {},
     "output_type": "execute_result"
    }
   ],
   "source": [
    "well_df.head()"
   ]
  },
  {
   "cell_type": "code",
   "execution_count": 7,
   "id": "d090b19b-3778-4a63-b92d-8f2be45f743d",
   "metadata": {},
   "outputs": [
    {
     "data": {
      "text/html": [
       "<div>\n",
       "<style scoped>\n",
       "    .dataframe tbody tr th:only-of-type {\n",
       "        vertical-align: middle;\n",
       "    }\n",
       "\n",
       "    .dataframe tbody tr th {\n",
       "        vertical-align: top;\n",
       "    }\n",
       "\n",
       "    .dataframe thead th {\n",
       "        text-align: right;\n",
       "    }\n",
       "</style>\n",
       "<table border=\"1\" class=\"dataframe\">\n",
       "  <thead>\n",
       "    <tr style=\"text-align: right;\">\n",
       "      <th></th>\n",
       "      <th>Reservoir Name</th>\n",
       "      <th>Initial Reservoir Pressure (PSI)</th>\n",
       "      <th>Bubble Point Pressure (PSI)</th>\n",
       "      <th>Current Average Reservoir Pressure (PSI)</th>\n",
       "      <th>Solution Gas-Oil-Ratio (SCF/BBL)</th>\n",
       "      <th>Formation Volume Factor (RB/STB)</th>\n",
       "    </tr>\n",
       "  </thead>\n",
       "  <tbody>\n",
       "    <tr>\n",
       "      <th>0</th>\n",
       "      <td>ACHI</td>\n",
       "      <td>3,500</td>\n",
       "      <td>3,300</td>\n",
       "      <td>2,700</td>\n",
       "      <td>800</td>\n",
       "      <td>1.20</td>\n",
       "    </tr>\n",
       "    <tr>\n",
       "      <th>1</th>\n",
       "      <td>KEMA</td>\n",
       "      <td>4,200</td>\n",
       "      <td>4,000</td>\n",
       "      <td>3,900</td>\n",
       "      <td>600</td>\n",
       "      <td>1.45</td>\n",
       "    </tr>\n",
       "    <tr>\n",
       "      <th>2</th>\n",
       "      <td>MAKO</td>\n",
       "      <td>3,500</td>\n",
       "      <td>3,500</td>\n",
       "      <td>3,000</td>\n",
       "      <td>500</td>\n",
       "      <td>1.15</td>\n",
       "    </tr>\n",
       "    <tr>\n",
       "      <th>3</th>\n",
       "      <td>DEPU</td>\n",
       "      <td>2,800</td>\n",
       "      <td>2,800</td>\n",
       "      <td>2,400</td>\n",
       "      <td>1,200</td>\n",
       "      <td>1.37</td>\n",
       "    </tr>\n",
       "    <tr>\n",
       "      <th>4</th>\n",
       "      <td>JANI</td>\n",
       "      <td>4,500</td>\n",
       "      <td>4,300</td>\n",
       "      <td>4,200</td>\n",
       "      <td>1,000</td>\n",
       "      <td>1.30</td>\n",
       "    </tr>\n",
       "  </tbody>\n",
       "</table>\n",
       "</div>"
      ],
      "text/plain": [
       "  Reservoir Name Initial Reservoir Pressure (PSI) Bubble Point Pressure (PSI)  \\\n",
       "0           ACHI                            3,500                       3,300   \n",
       "1           KEMA                            4,200                       4,000   \n",
       "2           MAKO                            3,500                       3,500   \n",
       "3           DEPU                            2,800                       2,800   \n",
       "4           JANI                            4,500                       4,300   \n",
       "\n",
       "  Current Average Reservoir Pressure (PSI) Solution Gas-Oil-Ratio (SCF/BBL)  \\\n",
       "0                                    2,700                              800   \n",
       "1                                    3,900                              600   \n",
       "2                                    3,000                              500   \n",
       "3                                    2,400                            1,200   \n",
       "4                                    4,200                            1,000   \n",
       "\n",
       "   Formation Volume Factor (RB/STB)  \n",
       "0                              1.20  \n",
       "1                              1.45  \n",
       "2                              1.15  \n",
       "3                              1.37  \n",
       "4                              1.30  "
      ]
     },
     "execution_count": 7,
     "metadata": {},
     "output_type": "execute_result"
    }
   ],
   "source": [
    "reservoir_df.head()"
   ]
  },
  {
   "cell_type": "code",
   "execution_count": 8,
   "id": "6f125d4c-9200-463f-a0e7-cdec0f3035c2",
   "metadata": {},
   "outputs": [
    {
     "name": "stdout",
     "output_type": "stream",
     "text": [
      "<class 'pandas.core.frame.DataFrame'>\n",
      "RangeIndex: 5 entries, 0 to 4\n",
      "Data columns (total 6 columns):\n",
      " #   Column                                    Non-Null Count  Dtype  \n",
      "---  ------                                    --------------  -----  \n",
      " 0   Reservoir Name                            5 non-null      object \n",
      " 1   Initial Reservoir Pressure (PSI)          5 non-null      object \n",
      " 2   Bubble Point Pressure (PSI)               5 non-null      object \n",
      " 3   Current Average Reservoir Pressure (PSI)  5 non-null      object \n",
      " 4   Solution Gas-Oil-Ratio (SCF/BBL)          5 non-null      object \n",
      " 5   Formation Volume Factor (RB/STB)          5 non-null      float64\n",
      "dtypes: float64(1), object(5)\n",
      "memory usage: 372.0+ bytes\n"
     ]
    }
   ],
   "source": [
    "reservoir_df.info()"
   ]
  },
  {
   "cell_type": "markdown",
   "id": "8b75ebd4-03f8-463d-8e93-8d707e4cd2dd",
   "metadata": {},
   "source": [
    "#### It is also established here from the info, that there is no missing values in our well datasets, since total non-null count is the same as the total entries"
   ]
  },
  {
   "cell_type": "markdown",
   "id": "9999ac00-d0e4-4e11-8a28-c4bbdca2a7d1",
   "metadata": {},
   "source": [
    "### Cleaning The Data\n",
    "#### I observed that some of the numeric column in the dataset are read as objects, which are supposed to be numerics.\n",
    "#### And also the production date to datetime\n",
    "#### The next line of code converts this column to numerics\n"
   ]
  },
  {
   "cell_type": "code",
   "execution_count": 9,
   "id": "8d2c57a1-5843-4017-8432-9a58de100d1c",
   "metadata": {},
   "outputs": [],
   "source": [
    "def convert_to_float(df, columns):\n",
    "    for col in columns:\n",
    "        df[col] = pd.to_numeric(df[col].str.replace(',', ''), errors='coerce')\n",
    "    return df"
   ]
  },
  {
   "cell_type": "code",
   "execution_count": 10,
   "id": "5ed45c6c-0463-4459-95cb-157cd8735125",
   "metadata": {},
   "outputs": [],
   "source": [
    "# Columns we are converting in well_df\n",
    "well_float_cols = [\n",
    "    'BOTTOMHOLE_FLOWING_PRESSURE (PSI)',\n",
    "    'ANNULUS_PRESS (PSI)',\n",
    "    'WELL_HEAD_PRESSURE (PSI)',\n",
    "    'CUMULATIVE_OIL_PROD (STB)',\n",
    "    'CUMULATIVE_FORMATION_GAS_PROD (MSCF)',\n",
    "    'CUMULATIVE_TOTAL_GAS_PROD (MSCF)',\n",
    "    'CUMULATIVE_WATER_PROD (BBL)'\n",
    "]\n",
    "\n",
    "# Columns we are converting in reservoir_df\n",
    "reservoir_float_cols = [\n",
    "    'Initial Reservoir Pressure (PSI)',\n",
    "    'Bubble Point Pressure (PSI)',\n",
    "    'Current Average Reservoir Pressure (PSI)',\n",
    "    'Solution Gas-Oil-Ratio (SCF/BBL)'\n",
    "]\n",
    "\n",
    "# Applying the function\n",
    "well_df = convert_to_float(well_df, well_float_cols)\n",
    "reservoir_df = convert_to_float(reservoir_df, reservoir_float_cols)"
   ]
  },
  {
   "cell_type": "code",
   "execution_count": 11,
   "id": "bdbab40a-0082-4cba-b12c-1532837ccbb9",
   "metadata": {},
   "outputs": [],
   "source": [
    "well_df['PROD_DATE'] = pd.to_datetime(well_df['PROD_DATE'], format='%d-%b-%y')"
   ]
  },
  {
   "cell_type": "code",
   "execution_count": 12,
   "id": "5e830a72-9207-4ff1-a690-2b8d029d8ce5",
   "metadata": {},
   "outputs": [
    {
     "name": "stdout",
     "output_type": "stream",
     "text": [
      "<class 'pandas.core.frame.DataFrame'>\n",
      "RangeIndex: 7955 entries, 0 to 7954\n",
      "Data columns (total 13 columns):\n",
      " #   Column                                Non-Null Count  Dtype         \n",
      "---  ------                                --------------  -----         \n",
      " 0   PROD_DATE                             7955 non-null   datetime64[ns]\n",
      " 1   WELL_NAME                             7955 non-null   object        \n",
      " 2   ON_STREAM_HRS                         7955 non-null   float64       \n",
      " 3   BOTTOMHOLE_FLOWING_PRESSURE (PSI)     7955 non-null   int64         \n",
      " 4   DOWNHOLE_TEMPERATURE (deg F)          7955 non-null   float64       \n",
      " 5   ANNULUS_PRESS (PSI)                   7955 non-null   float64       \n",
      " 6   CHOKE_SIZE (%)                        7955 non-null   float64       \n",
      " 7   WELL_HEAD_PRESSURE (PSI)              7955 non-null   float64       \n",
      " 8   WELL_HEAD_TEMPERATURE (deg F)         7955 non-null   float64       \n",
      " 9   CUMULATIVE_OIL_PROD (STB)             7955 non-null   int64         \n",
      " 10  CUMULATIVE_FORMATION_GAS_PROD (MSCF)  7955 non-null   int64         \n",
      " 11  CUMULATIVE_TOTAL_GAS_PROD (MSCF)      7955 non-null   int64         \n",
      " 12  CUMULATIVE_WATER_PROD (BBL)           7955 non-null   int64         \n",
      "dtypes: datetime64[ns](1), float64(6), int64(5), object(1)\n",
      "memory usage: 808.1+ KB\n",
      "<class 'pandas.core.frame.DataFrame'>\n",
      "RangeIndex: 5 entries, 0 to 4\n",
      "Data columns (total 6 columns):\n",
      " #   Column                                    Non-Null Count  Dtype  \n",
      "---  ------                                    --------------  -----  \n",
      " 0   Reservoir Name                            5 non-null      object \n",
      " 1   Initial Reservoir Pressure (PSI)          5 non-null      int64  \n",
      " 2   Bubble Point Pressure (PSI)               5 non-null      int64  \n",
      " 3   Current Average Reservoir Pressure (PSI)  5 non-null      int64  \n",
      " 4   Solution Gas-Oil-Ratio (SCF/BBL)          5 non-null      int64  \n",
      " 5   Formation Volume Factor (RB/STB)          5 non-null      float64\n",
      "dtypes: float64(1), int64(4), object(1)\n",
      "memory usage: 372.0+ bytes\n"
     ]
    }
   ],
   "source": [
    "well_df.info()\n",
    "reservoir_df.info()"
   ]
  },
  {
   "cell_type": "markdown",
   "id": "0df57564-b1e4-48ca-8461-f4c1704c0b39",
   "metadata": {},
   "source": [
    "### Saving the clean file, so as to share among the team"
   ]
  },
  {
   "cell_type": "code",
   "execution_count": 14,
   "id": "f7a19340-81a4-46f0-8f50-ee8abf67288d",
   "metadata": {},
   "outputs": [],
   "source": [
    "well_df.to_csv('cleaned_wells_dataset.csv', index=False)"
   ]
  },
  {
   "cell_type": "code",
   "execution_count": 16,
   "id": "e0d0cee9-50e6-4bd8-868e-0aef2d01fd51",
   "metadata": {},
   "outputs": [],
   "source": [
    "reservoir_df.to_csv('cleaned_reservoir_dataset.csv', index=False)"
   ]
  },
  {
   "cell_type": "code",
   "execution_count": 13,
   "id": "6dc8ff05-536a-4818-9f11-d7a92b367b7e",
   "metadata": {},
   "outputs": [
    {
     "name": "stdout",
     "output_type": "stream",
     "text": [
      "git version 2.43.0.windows.1\n"
     ]
    }
   ],
   "source": [
    "!git --version"
   ]
  },
  {
   "cell_type": "code",
   "execution_count": 19,
   "id": "70720892-7fa6-4f69-9b52-527ff50f1952",
   "metadata": {},
   "outputs": [
    {
     "name": "stderr",
     "output_type": "stream",
     "text": [
      "fatal: Unable to create 'C:/Users/osuol/Desktop/SPE DSEAT/.git/index.lock': File exists.\n",
      "\n",
      "Another git process seems to be running in this repository, e.g.\n",
      "an editor opened by 'git commit'. Please make sure all processes\n",
      "are terminated then try again. If it still fails, a git process\n",
      "may have crashed in this repository earlier:\n",
      "remove the file manually to continue.\n"
     ]
    }
   ],
   "source": [
    "!git c"
   ]
  },
  {
   "cell_type": "code",
   "execution_count": null,
   "id": "5d29d5f6-c8d9-4548-abc4-9afbfd1a53fb",
   "metadata": {},
   "outputs": [],
   "source": []
  }
 ],
 "metadata": {
  "kernelspec": {
   "display_name": "Python 3 (ipykernel)",
   "language": "python",
   "name": "python3"
  },
  "language_info": {
   "codemirror_mode": {
    "name": "ipython",
    "version": 3
   },
   "file_extension": ".py",
   "mimetype": "text/x-python",
   "name": "python",
   "nbconvert_exporter": "python",
   "pygments_lexer": "ipython3",
   "version": "3.12.7"
  }
 },
 "nbformat": 4,
 "nbformat_minor": 5
}
