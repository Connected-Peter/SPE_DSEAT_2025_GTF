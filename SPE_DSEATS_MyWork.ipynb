{
 "cells": [
  {
   "cell_type": "markdown",
   "id": "0815569b-2b5e-4666-ae39-4aad478ad484",
   "metadata": {},
   "source": [
    "# SPE DSEAT Datathon "
   ]
  },
  {
   "cell_type": "markdown",
   "id": "31ae129c-bff9-4084-93b7-b766d554fa0f",
   "metadata": {},
   "source": [
    "### Importing libariries"
   ]
  },
  {
   "cell_type": "code",
   "execution_count": null,
   "id": "bbaebcc5-83f4-4710-b291-a2cf9c4ed23a",
   "metadata": {},
   "outputs": [],
   "source": [
    "import pandas as pd\n",
    "import numpy as np\n",
    "import matplotlib.pyplot as plt\n",
    "import seaborn as sns"
   ]
  },
  {
   "cell_type": "markdown",
   "id": "041861ee-1ba8-4f17-a697-a781c84cce87",
   "metadata": {},
   "source": [
    "### Loading Datasets"
   ]
  },
  {
   "cell_type": "code",
   "execution_count": null,
   "id": "7c385645-b5cd-4a03-9c4b-2ddd2622d69a",
   "metadata": {},
   "outputs": [],
   "source": [
    "well_df = pd.read_csv(\"C:/Users/osuol/Desktop/SPE DSEAT/spe_africa_dseats_datathon_2025_wells_dataset.csv\")\n",
    "reservoir_df = pd.read_csv(\"C:/Users/osuol/Desktop/SPE DSEAT/reservoir_info.csv\")"
   ]
  },
  {
   "cell_type": "markdown",
   "id": "aa3ca2f6-5099-4e5e-bdea-fa3836237152",
   "metadata": {},
   "source": [
    "### Preprocessing the Dataset"
   ]
  },
  {
   "cell_type": "code",
   "execution_count": null,
   "id": "1ad2a52c-e112-4855-bc43-ea0574bee92e",
   "metadata": {},
   "outputs": [],
   "source": [
    "well_df.head()"
   ]
  },
  {
   "cell_type": "code",
   "execution_count": null,
   "id": "ec7abe2b-cd97-4f8d-8937-90193c2cd652",
   "metadata": {},
   "outputs": [],
   "source": [
    "print(\"Dimensions: {}\".format(well_df.shape))\n",
    "well_df.info()"
   ]
  },
  {
   "cell_type": "markdown",
   "id": "07ba279a-47b9-4aa3-a0d3-514be4aea4f4",
   "metadata": {},
   "source": [
    "It was established from the info that there is no missing values in our well dataset, since total non-null count is the same as the total entries."
   ]
  },
  {
   "cell_type": "code",
   "execution_count": null,
   "id": "d090b19b-3778-4a63-b92d-8f2be45f743d",
   "metadata": {},
   "outputs": [],
   "source": [
    "reservoir_df.head()"
   ]
  },
  {
   "cell_type": "code",
   "execution_count": null,
   "id": "6f125d4c-9200-463f-a0e7-cdec0f3035c2",
   "metadata": {},
   "outputs": [],
   "source": [
    "reservoir_df.info()"
   ]
  },
  {
   "cell_type": "markdown",
   "id": "8b75ebd4-03f8-463d-8e93-8d707e4cd2dd",
   "metadata": {},
   "source": [
    "It was also established here from the info, that there is no missing values in our well datasets, since total non-null count is the same as the total entries"
   ]
  },
  {
   "cell_type": "markdown",
   "id": "9999ac00-d0e4-4e11-8a28-c4bbdca2a7d1",
   "metadata": {},
   "source": [
    "### Cleaning The Data\n",
    "I observed that some of the numeric column in the dataset are read as objects, which are supposed to be numerics.\n",
    "And also the production date to datetime\n",
    "The next line of code converts this column to numerics\n"
   ]
  },
  {
   "cell_type": "code",
   "execution_count": null,
   "id": "8d2c57a1-5843-4017-8432-9a58de100d1c",
   "metadata": {},
   "outputs": [],
   "source": [
    "# creating a function for the conversion\n",
    "def convert_to_float(df, columns):\n",
    "    for col in columns:\n",
    "        df[col] = pd.to_numeric(df[col].str.replace(',', ''), errors='coerce')\n",
    "    return df"
   ]
  },
  {
   "cell_type": "code",
   "execution_count": null,
   "id": "5ed45c6c-0463-4459-95cb-157cd8735125",
   "metadata": {},
   "outputs": [],
   "source": [
    "# Columns we are converting in well_df\n",
    "well_float_cols = [\n",
    "    'BOTTOMHOLE_FLOWING_PRESSURE (PSI)',\n",
    "    'ANNULUS_PRESS (PSI)',\n",
    "    'WELL_HEAD_PRESSURE (PSI)',\n",
    "    'CUMULATIVE_OIL_PROD (STB)',\n",
    "    'CUMULATIVE_FORMATION_GAS_PROD (MSCF)',\n",
    "    'CUMULATIVE_TOTAL_GAS_PROD (MSCF)',\n",
    "    'CUMULATIVE_WATER_PROD (BBL)'\n",
    "]\n",
    "\n",
    "# Columns we are converting in reservoir_df\n",
    "reservoir_float_cols = [\n",
    "    'Initial Reservoir Pressure (PSI)',\n",
    "    'Bubble Point Pressure (PSI)',\n",
    "    'Current Average Reservoir Pressure (PSI)',\n",
    "    'Solution Gas-Oil-Ratio (SCF/BBL)'\n",
    "]\n",
    "\n",
    "# Applying the function\n",
    "well_df = convert_to_float(well_df, well_float_cols)\n",
    "reservoir_df = convert_to_float(reservoir_df, reservoir_float_cols)"
   ]
  },
  {
   "cell_type": "code",
   "execution_count": null,
   "id": "bdbab40a-0082-4cba-b12c-1532837ccbb9",
   "metadata": {},
   "outputs": [],
   "source": [
    "# convertint the production date to datetime format\n",
    "well_df['PROD_DATE'] = pd.to_datetime(well_df['PROD_DATE'], format='%d-%b-%y')"
   ]
  },
  {
   "cell_type": "code",
   "execution_count": null,
   "id": "5e830a72-9207-4ff1-a690-2b8d029d8ce5",
   "metadata": {},
   "outputs": [],
   "source": [
    "#confirming changes \n",
    "well_df.info()\n",
    "reservoir_df.info()"
   ]
  },
  {
   "cell_type": "code",
   "execution_count": null,
   "id": "bad5cb78-ad60-4f10-bdfe-a419c612a7c4",
   "metadata": {},
   "outputs": [],
   "source": [
    "# checking for duplicates\n",
    "well_df.duplicated().sum()"
   ]
  },
  {
   "cell_type": "code",
   "execution_count": null,
   "id": "007eed7a-2381-497d-86e2-7032a2d04419",
   "metadata": {},
   "outputs": [],
   "source": [
    "well_df.describe()"
   ]
  },
  {
   "cell_type": "code",
   "execution_count": null,
   "id": "f7a19340-81a4-46f0-8f50-ee8abf67288d",
   "metadata": {},
   "outputs": [],
   "source": [
    "well_df.to_csv('cleaned_wells_dataset.csv', index=False)"
   ]
  },
  {
   "cell_type": "code",
   "execution_count": null,
   "id": "e0d0cee9-50e6-4bd8-868e-0aef2d01fd51",
   "metadata": {},
   "outputs": [],
   "source": [
    "reservoir_df.to_csv('cleaned_reservoir_dataset.csv', index=False)"
   ]
  },
  {
   "cell_type": "markdown",
   "id": "1dc087b6-6aaa-4994-824b-d2cf0725491f",
   "metadata": {},
   "source": [
    "## DATASET EXPLORATION"
   ]
  },
  {
   "cell_type": "markdown",
   "id": "802e06eb-0b01-45ea-a133-6bb3d7455aee",
   "metadata": {},
   "source": [
    "Identified the number of unique wells and their names to confirm the dataset contains all 20 wells for analysis."
   ]
  },
  {
   "cell_type": "code",
   "execution_count": null,
   "id": "052449fb-c624-4b8b-aba1-8f5ff613b34a",
   "metadata": {},
   "outputs": [],
   "source": [
    "print(\"The total number of wells is: \", well_df['WELL_NAME'].nunique())\n",
    "well_df['WELL_NAME'].unique()"
   ]
  },
  {
   "cell_type": "markdown",
   "id": "124679d1-774c-45f0-b02c-b47df81d6d86",
   "metadata": {},
   "source": [
    "### Understanding the well trends\n",
    "Plotted cumulative oil production for all 20 wells to compare production trends across the dataset."
   ]
  },
  {
   "cell_type": "code",
   "execution_count": null,
   "id": "06f141a4-74b1-4103-b94b-93614efc7aa7",
   "metadata": {},
   "outputs": [],
   "source": [
    "# Filter for Well_#1\n",
    "well_1 = well_df[well_df['WELL_NAME'] == 'Well_#1']\n",
    "\n",
    "# Plot\n",
    "plt.figure(figsize=(8, 5))\n",
    "plt.plot(well_1['PROD_DATE'], well_1['CUMULATIVE_OIL_PROD (STB)'])\n",
    "plt.xlabel('Date')\n",
    "plt.ylabel('Cumulative Oil Production (STB)')\n",
    "plt.title('Cumulative Oil Production for Well_#1')\n",
    "plt.grid(True)\n",
    "plt.savefig('well_1_oil_prod.png')\n",
    "plt.show()"
   ]
  },
  {
   "cell_type": "code",
   "execution_count": null,
   "id": "2236927c-8227-4b93-a9b1-96a5f75d186c",
   "metadata": {},
   "outputs": [],
   "source": []
  },
  {
   "cell_type": "code",
   "execution_count": null,
   "id": "997d6b2b-81df-4329-ae4e-ef1c32e0c2cd",
   "metadata": {},
   "outputs": [],
   "source": [
    "# Filter for Well_#2\n",
    "well_2 = well_df[well_df['WELL_NAME'] == 'Well_#2']\n",
    "\n",
    "# Plot\n",
    "plt.figure(figsize=(8, 5))\n",
    "plt.plot(well_2['PROD_DATE'], well_2['CUMULATIVE_OIL_PROD (STB)'])\n",
    "plt.xlabel('Date')\n",
    "plt.ylabel('Cumulative Oil Production (STB)')\n",
    "plt.title('Cumulative Oil Production for Well_#2')\n",
    "plt.grid(True)\n",
    "plt.savefig('well_2_oil_prod.png')  # Save as PNG\n",
    "plt.show()"
   ]
  },
  {
   "cell_type": "code",
   "execution_count": null,
   "id": "b8dee546-4406-4c95-9404-3b5d45689cb0",
   "metadata": {},
   "outputs": [],
   "source": [
    "# Plot all wells\n",
    "plt.figure(figsize=(10, 6))\n",
    "for well in well_df['WELL_NAME'].unique():\n",
    "    well_data = well_df[well_df['WELL_NAME'] == well]\n",
    "    plt.plot(well_data['PROD_DATE'], well_data['CUMULATIVE_OIL_PROD (STB)'], label=well)\n",
    "plt.xlabel('Date')\n",
    "plt.ylabel('Cumulative Oil Production (STB)')\n",
    "plt.title('Cumulative Oil Production for All Wells')\n",
    "plt.legend(bbox_to_anchor=(1.05, 1), loc='upper left')\n",
    "plt.grid(True)\n",
    "plt.tight_layout()\n",
    "plt.savefig('all_wells_oil_prod.png')\n",
    "plt.show()"
   ]
  },
  {
   "cell_type": "code",
   "execution_count": null,
   "id": "1d0b9a2c-c462-45d8-8e9c-1fc46d13b0b5",
   "metadata": {},
   "outputs": [],
   "source": [
    "!git add ."
   ]
  },
  {
   "cell_type": "code",
   "execution_count": null,
   "id": "b25cdebc-14f2-4780-9240-92039ce1e2d5",
   "metadata": {},
   "outputs": [],
   "source": [
    "!git commit -m \"started EDA\""
   ]
  },
  {
   "cell_type": "code",
   "execution_count": null,
   "id": "f4f39465-c61e-4f9f-814e-1bf4b795fa0c",
   "metadata": {},
   "outputs": [],
   "source": [
    "!git push origin main"
   ]
  },
  {
   "cell_type": "code",
   "execution_count": null,
   "id": "aa3c94e3-8d27-4b35-8790-0041ef442d01",
   "metadata": {},
   "outputs": [],
   "source": []
  }
 ],
 "metadata": {
  "kernelspec": {
   "display_name": "Python 3 (ipykernel)",
   "language": "python",
   "name": "python3"
  },
  "language_info": {
   "codemirror_mode": {
    "name": "ipython",
    "version": 3
   },
   "file_extension": ".py",
   "mimetype": "text/x-python",
   "name": "python",
   "nbconvert_exporter": "python",
   "pygments_lexer": "ipython3",
   "version": "3.12.7"
  }
 },
 "nbformat": 4,
 "nbformat_minor": 5
}
